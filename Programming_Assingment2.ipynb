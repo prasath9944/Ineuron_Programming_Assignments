{
  "nbformat": 4,
  "nbformat_minor": 0,
  "metadata": {
    "colab": {
      "provenance": [],
      "authorship_tag": "ABX9TyORRP/Jx+y2Suvqn6WAyh3R",
      "include_colab_link": true
    },
    "kernelspec": {
      "name": "python3",
      "display_name": "Python 3"
    },
    "language_info": {
      "name": "python"
    }
  },
  "cells": [
    {
      "cell_type": "markdown",
      "metadata": {
        "id": "view-in-github",
        "colab_type": "text"
      },
      "source": [
        "<a href=\"https://colab.research.google.com/github/prasath9944/Ineuron_Programming_Assignments/blob/main/Programming_Assingment2.ipynb\" target=\"_parent\"><img src=\"https://colab.research.google.com/assets/colab-badge.svg\" alt=\"Open In Colab\"/></a>"
      ]
    },
    {
      "cell_type": "markdown",
      "source": [
        "<h1>1. Write a Python program to convert kilometers to miles?</h1>"
      ],
      "metadata": {
        "id": "bUIl8kve5KsT"
      }
    },
    {
      "cell_type": "code",
      "execution_count": 2,
      "metadata": {
        "colab": {
          "base_uri": "https://localhost:8080/"
        },
        "id": "52Vz3DnE5EHu",
        "outputId": "dc327f17-48c4-4568-a226-dad5a4dd3f0a"
      },
      "outputs": [
        {
          "output_type": "stream",
          "name": "stdout",
          "text": [
            "Enter the value in kilometers: 1000\n",
            "The Converted value from kilometers 1000.0 to miles 621.3711922\n"
          ]
        }
      ],
      "source": [
        "def convert_Kilo_ToMiles(kilometers):\n",
        "  return kilometers*0.6213711922\n",
        "\n",
        "kilometer=float(input(\"Enter the value in kilometers: \"))\n",
        "print(f\"The Converted value from kilometers {kilometer} to miles {convert_Kilo_ToMiles(kilometer)}\")"
      ]
    },
    {
      "cell_type": "markdown",
      "source": [
        "<h1>2. Write a Python program to convert Celsius to Fahrenheit?</h1>"
      ],
      "metadata": {
        "id": "y0s3Tas55-Av"
      }
    },
    {
      "cell_type": "code",
      "source": [
        "def convert_ToFahrenheit(celsius):\n",
        "  return round(((celsius*1.8)+32),2)"
      ],
      "metadata": {
        "id": "LBCt6ALI52NI"
      },
      "execution_count": 5,
      "outputs": []
    },
    {
      "cell_type": "code",
      "source": [
        "celsius=float(input(\"Enter the Celsius in degree value: \"))\n",
        "print(f\"The Fahrenheit value for {celsius} %C is {convert_ToFahrenheit(celsius)} fahrenheit\")"
      ],
      "metadata": {
        "colab": {
          "base_uri": "https://localhost:8080/"
        },
        "id": "5slvLu7w6ZzF",
        "outputId": "0932db4e-f675-42c6-fa28-f61100d31512"
      },
      "execution_count": 6,
      "outputs": [
        {
          "output_type": "stream",
          "name": "stdout",
          "text": [
            "Enter the Celsius in degree value: 13\n",
            "The Fahrenheit value for 13.0 %C is 55.4 fahrenheit\n"
          ]
        }
      ]
    },
    {
      "cell_type": "markdown",
      "source": [
        "<h1>3. Write a Python program to display calendar?</h1>"
      ],
      "metadata": {
        "id": "4I4hEbgi66YL"
      }
    },
    {
      "cell_type": "code",
      "source": [
        "import calendar\n",
        "\n",
        "yy = int(input(\"Enter the Year of the Calender: \"))\n",
        "mm = int(input(\"Enter the Month of the Calender: \"))\n",
        "print(calendar.month(yy, mm))"
      ],
      "metadata": {
        "colab": {
          "base_uri": "https://localhost:8080/"
        },
        "id": "VGVBwtek6ush",
        "outputId": "385ef8a7-675a-4d72-dc7b-878ec1d32668"
      },
      "execution_count": 7,
      "outputs": [
        {
          "output_type": "stream",
          "name": "stdout",
          "text": [
            "Enter the Year of the Calender: 2022\n",
            "Enter the Month of the Calender: 12\n",
            "   December 2022\n",
            "Mo Tu We Th Fr Sa Su\n",
            "          1  2  3  4\n",
            " 5  6  7  8  9 10 11\n",
            "12 13 14 15 16 17 18\n",
            "19 20 21 22 23 24 25\n",
            "26 27 28 29 30 31\n",
            "\n"
          ]
        }
      ]
    },
    {
      "cell_type": "markdown",
      "source": [
        "<h1>4. Write a Python program to solve quadratic equation?</h1>"
      ],
      "metadata": {
        "id": "uXpU0vwm7Xh2"
      }
    },
    {
      "cell_type": "code",
      "source": [
        "import math\n",
        "def solve_Equation(a,b,c):\n",
        "  dis=b*b-4*a*c\n",
        "  sqrt_dis=math.sqrt(abs(dis))\n",
        "  if(dis>0):\n",
        "    print(\"Roots are Real and Different\")\n",
        "    x=(-b + sqrt_dis)/(2 * a)\n",
        "    y=(-b - sqrt_dis)/(2 * a)\n",
        "  elif(dis==0):\n",
        "    print(\"Roots are Real and same\")\n",
        "    x=-b / (2 * a)\n",
        "    y=-b / (2 * a)\n",
        "  else:\n",
        "      print(\"Complex Roots\") \n",
        "      x=- b / (2 * a), \" + i\", sqrt_dis \n",
        "      y=- b / (2 * a), \" - i\", sqrt_dis\n",
        "  return (x,y) "
      ],
      "metadata": {
        "id": "cpzLfvFv7S47"
      },
      "execution_count": 10,
      "outputs": []
    },
    {
      "cell_type": "code",
      "source": [
        "solve_Equation(1,10,-24)"
      ],
      "metadata": {
        "colab": {
          "base_uri": "https://localhost:8080/"
        },
        "id": "tn_slsgc8p8W",
        "outputId": "5190748a-bd16-4c34-f8fd-7922c184d2a5"
      },
      "execution_count": 11,
      "outputs": [
        {
          "output_type": "stream",
          "name": "stdout",
          "text": [
            "Roots are Real and Different\n"
          ]
        },
        {
          "output_type": "execute_result",
          "data": {
            "text/plain": [
              "(2.0, -12.0)"
            ]
          },
          "metadata": {},
          "execution_count": 11
        }
      ]
    },
    {
      "cell_type": "markdown",
      "source": [
        "<h1>5. Write a Python program to swap two variables without temp variable?</h1>"
      ],
      "metadata": {
        "id": "YumEgU8Q85kW"
      }
    },
    {
      "cell_type": "code",
      "source": [
        "\n",
        "num1 = int(input(\"Enter first number: \"))\n",
        "num2 = int(input(\"Enter second number: \"))\n",
        "\n",
        "print('Old value of num1 is {0} and num2 is {1}'.format(num1, num2))\n",
        "\n",
        "num1 = num1 + num2\n",
        "num2 = num1 - num2\n",
        "num1 = num1 - num2\n",
        "\n",
        "# Display the result\n",
        "print('New value of num1 is {0} and num2 is {1}'.format(num1, num2))"
      ],
      "metadata": {
        "colab": {
          "base_uri": "https://localhost:8080/"
        },
        "id": "wK-oI2td8u3f",
        "outputId": "b1c8e10c-d7dc-4e5b-9d6a-8276320c41dd"
      },
      "execution_count": 13,
      "outputs": [
        {
          "output_type": "stream",
          "name": "stdout",
          "text": [
            "Enter first number: 100\n",
            "Enter second number: 200\n",
            "Old value of num1 is 100 and num2 is 200\n",
            "New value of num1 is 200 and num2 is 100\n"
          ]
        }
      ]
    },
    {
      "cell_type": "code",
      "source": [],
      "metadata": {
        "id": "OjMI4b3m9O7I"
      },
      "execution_count": null,
      "outputs": []
    }
  ]
}
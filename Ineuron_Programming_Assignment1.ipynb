{
  "nbformat": 4,
  "nbformat_minor": 0,
  "metadata": {
    "colab": {
      "provenance": []
    },
    "kernelspec": {
      "name": "python3",
      "display_name": "Python 3"
    },
    "language_info": {
      "name": "python"
    }
  },
  "cells": [
    {
      "cell_type": "markdown",
      "source": [
        "<h1>1. Write a Python program to print &quot;Hello Python&quot;?<h1>"
      ],
      "metadata": {
        "id": "BKwHw0rcskvW"
      }
    },
    {
      "cell_type": "code",
      "execution_count": 1,
      "metadata": {
        "colab": {
          "base_uri": "https://localhost:8080/"
        },
        "id": "FdNz440jsCbs",
        "outputId": "50f55b49-0bf1-4ea2-ef21-046bf8dabd59"
      },
      "outputs": [
        {
          "output_type": "stream",
          "name": "stdout",
          "text": [
            "Hello Python\n"
          ]
        }
      ],
      "source": [
        "print(\"Hello Python\")"
      ]
    },
    {
      "cell_type": "markdown",
      "source": [
        "<h1>2. Write a Python program to do arithmetical operations addition and division.?</h1>"
      ],
      "metadata": {
        "id": "1jGPD34-svLS"
      }
    },
    {
      "cell_type": "code",
      "source": [
        "def add(a,b):\n",
        "  return a+b\n",
        "\n",
        "def multiply(a,b):\n",
        "  return a*b"
      ],
      "metadata": {
        "id": "ekbke4VRsskn"
      },
      "execution_count": 3,
      "outputs": []
    },
    {
      "cell_type": "code",
      "source": [
        "a=int(input(\"Enter the first number: \"))\n",
        "b=int(input(\"Enter the second number: \"))\n",
        "choice=input(\"Enter 'ADD' for Addition or 'MUL for Mupliplication: \")\n",
        "if(choice=='ADD'):\n",
        "  print(f'The Addition of {a} and {b} is {add(a,b)}')\n",
        "else:\n",
        "  print(f'The Multiplication of {a} and {b} is {multiply(a,b)}')"
      ],
      "metadata": {
        "colab": {
          "base_uri": "https://localhost:8080/"
        },
        "id": "eUT06hdSs6WD",
        "outputId": "032c679d-8946-454f-c6c6-f1550f414aec"
      },
      "execution_count": 6,
      "outputs": [
        {
          "output_type": "stream",
          "name": "stdout",
          "text": [
            "Enter the first number: 21\n",
            "Enter the second number: 12\n",
            "Enter 'ADD' for Addition or 'MUL for Mupliplication: ADD\n",
            "The Addition of 21 and 12 is 33\n"
          ]
        }
      ]
    },
    {
      "cell_type": "markdown",
      "source": [
        "<h1>3. Write a Python program to find the area of a triangle?</h1>"
      ],
      "metadata": {
        "id": "nAkB1ms1t4B9"
      }
    },
    {
      "cell_type": "code",
      "source": [
        "def find_Area_Triangle(base:float,height:float):\n",
        "  return 0.5*base*height"
      ],
      "metadata": {
        "id": "CA59Hw55tdte"
      },
      "execution_count": 10,
      "outputs": []
    },
    {
      "cell_type": "code",
      "source": [
        "base=float(input('Enter the base value for the triangle: '))\n",
        "height=float(input('Enter the height value for the traingle: '))\n",
        "area=find_Area_Triangle(base,height)\n",
        "print(f'The Area of the Given triangle with base {base} and height {height} is {area}')"
      ],
      "metadata": {
        "colab": {
          "base_uri": "https://localhost:8080/"
        },
        "id": "ax7r0r1XuO41",
        "outputId": "aa183deb-6474-4d85-fcbf-f1c51f1d1afe"
      },
      "execution_count": 12,
      "outputs": [
        {
          "output_type": "stream",
          "name": "stdout",
          "text": [
            "Enter the base value for the triangle: 34.34324\n",
            "Enter the height value for the traingle: 12.3\n",
            "The Area of the Given triangle with base 34.34324 and height 12.3 is 211.21092600000003\n"
          ]
        }
      ]
    },
    {
      "cell_type": "markdown",
      "source": [
        "<h1>Write a Python program to swap two variables?</h1>"
      ],
      "metadata": {
        "id": "fj1PZmQ_vFM0"
      }
    },
    {
      "cell_type": "code",
      "source": [
        "import ctypes\n",
        "def swap_Two_Variables(a,b):\n",
        "  c=id(a)\n",
        "  a=id(b)\n",
        "  b=c\n",
        "  print(ctypes.cast(a, ctypes.py_object).value)\n",
        "  print(ctypes.cast(b, ctypes.py_object).value)"
      ],
      "metadata": {
        "id": "wkb12_vVu4A8"
      },
      "execution_count": 67,
      "outputs": []
    },
    {
      "cell_type": "code",
      "source": [
        "a='hello'\n",
        "b='world'\n",
        "print(\"Before Swapping\\n\")\n",
        "print(\"------------------------------------------------\\n\")\n",
        "print(f\"The value of a is {a} and b is {b}\\n\")\n",
        "print(\"------------------------------------------------\\n\")\n",
        "print(\"After Swapping\\n\")\n",
        "swap_Two_Variables(a,b)\n"
      ],
      "metadata": {
        "colab": {
          "base_uri": "https://localhost:8080/"
        },
        "id": "RWN0YX-rvlb1",
        "outputId": "2f5e1e42-6401-424a-f36f-25c08ff5466d"
      },
      "execution_count": 73,
      "outputs": [
        {
          "output_type": "stream",
          "name": "stdout",
          "text": [
            "Before Swapping\n",
            "\n",
            "------------------------------------------------\n",
            "\n",
            "The value of a is hello and b is world\n",
            "\n",
            "------------------------------------------------\n",
            "\n",
            "After Swapping\n",
            "\n",
            "world\n",
            "hello\n",
            "hello\n"
          ]
        }
      ]
    },
    {
      "cell_type": "code",
      "source": [
        "a=5\n",
        "b=6\n",
        "print(\"Before Swapping\\n\")\n",
        "print(\"------------------------------------------------\\n\")\n",
        "print(f\"The value of a is {a} and b is {b}\\n\")\n",
        "print(\"------------------------------------------------\\n\")\n",
        "c,d=b,a\n",
        "print(\"After Swapping\\n\")\n",
        "print(\"------------------------------------------------\\n\")\n",
        "print(f\"The value of a is {c} and b is {d}\\n\")\n",
        "print(\"------------------------------------------------\\n\")\n"
      ],
      "metadata": {
        "colab": {
          "base_uri": "https://localhost:8080/"
        },
        "id": "k0vLeGnSxRf-",
        "outputId": "176ebe1b-f937-4d33-9d0c-d39e1243365b"
      },
      "execution_count": 70,
      "outputs": [
        {
          "output_type": "stream",
          "name": "stdout",
          "text": [
            "Before Swapping\n",
            "\n",
            "------------------------------------------------\n",
            "\n",
            "The value of a is 5 and b is 6\n",
            "\n",
            "------------------------------------------------\n",
            "\n",
            "After Swapping\n",
            "\n",
            "------------------------------------------------\n",
            "\n",
            "The value of a is 6 and b is 5\n",
            "\n",
            "------------------------------------------------\n",
            "\n"
          ]
        }
      ]
    },
    {
      "cell_type": "markdown",
      "source": [
        "<h1>5. Write a Python program to generate a random number?</h1>"
      ],
      "metadata": {
        "id": "mXqFK0Sr22Sl"
      }
    },
    {
      "cell_type": "code",
      "source": [
        "import random\n",
        "random_var=random.randint(1,1000)\n",
        "print(random_var)"
      ],
      "metadata": {
        "colab": {
          "base_uri": "https://localhost:8080/"
        },
        "id": "7A7RzCDQvmL9",
        "outputId": "aafcc58c-ced6-450b-8ac9-08149394abf3"
      },
      "execution_count": 76,
      "outputs": [
        {
          "output_type": "stream",
          "name": "stdout",
          "text": [
            "330\n"
          ]
        }
      ]
    },
    {
      "cell_type": "code",
      "source": [],
      "metadata": {
        "id": "5-SbNVN8v5T1"
      },
      "execution_count": null,
      "outputs": []
    }
  ]
}